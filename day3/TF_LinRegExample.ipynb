{
 "cells": [
  {
   "cell_type": "markdown",
   "metadata": {},
   "source": [
    "# Tensor Flow Linear Regression Example\n",
    "\n",
    "A linear regression learning algorithm example using TensorFlow library.\n",
    "- Author: Aymeric Damien\n",
    "- Project: https://github.com/aymericdamien/TensorFlow-Examples/\n"
   ]
  },
  {
   "cell_type": "code",
   "execution_count": 41,
   "metadata": {},
   "outputs": [],
   "source": [
    "import tensorflow as tf\n",
    "import numpy\n",
    "import matplotlib.pyplot as plt\n",
    "import matplotlib        as mpl\n",
    "rng = numpy.random\n",
    "\n",
    "# Plot settings\n",
    "mpl.rcParams['legend.frameon' ] = False\n",
    "mpl.rcParams['legend.fontsize'] = 'xx-large'\n",
    "mpl.rcParams['text.usetex'    ] = True\n",
    "mpl.rcParams['xtick.labelsize'] = 16\n",
    "mpl.rcParams['ytick.labelsize'] = 16\n",
    "mpl.rcParams['axes.titlesize' ] = 18\n",
    "mpl.rcParams['axes.labelsize' ] = 18\n",
    "mpl.rcParams['lines.linewidth'] = 2.5"
   ]
  },
  {
   "cell_type": "code",
   "execution_count": 42,
   "metadata": {
    "collapsed": true
   },
   "outputs": [],
   "source": [
    "# Parameters\n",
    "learning_rate   = 0.01\n",
    "training_epochs = 20000\n",
    "display_step    = 1000"
   ]
  },
  {
   "cell_type": "code",
   "execution_count": 43,
   "metadata": {
    "collapsed": true
   },
   "outputs": [],
   "source": [
    "# Training Data\n",
    "train_X = numpy.asarray([3.3,4.4,5.5,6.71,6.93,4.168,9.779,6.182,7.59,2.167,\n",
    "                         7.042,10.791,5.313,7.997,5.654,9.27,3.1])\n",
    "train_Y = numpy.asarray([1.7,2.76,2.09,3.19,1.694,1.573,3.366,2.596,2.53,1.221,\n",
    "                         2.827,3.465,1.65,2.904,2.42,2.94,1.3])\n",
    "n_samples = train_X.shape[0]"
   ]
  },
  {
   "cell_type": "code",
   "execution_count": 44,
   "metadata": {
    "collapsed": true
   },
   "outputs": [],
   "source": [
    "# tf Graph Input\n",
    "X = tf.placeholder(\"float\")\n",
    "Y = tf.placeholder(\"float\")\n",
    "\n",
    "# Set model weights\n",
    "W = tf.Variable(rng.randn(), name=\"weight\")\n",
    "b = tf.Variable(rng.randn(), name=\"bias\")"
   ]
  },
  {
   "cell_type": "code",
   "execution_count": 45,
   "metadata": {
    "collapsed": true
   },
   "outputs": [],
   "source": [
    "# Construct a linear model\n",
    "pred = tf.add(tf.multiply(X, W), b)"
   ]
  },
  {
   "cell_type": "code",
   "execution_count": 46,
   "metadata": {
    "collapsed": true
   },
   "outputs": [],
   "source": [
    "# Mean squared error\n",
    "cost = tf.reduce_sum(tf.pow(pred-Y, 2))/(2*n_samples)\n",
    "# Gradient descent\n",
    "optimizer = tf.train.GradientDescentOptimizer(learning_rate).minimize(cost)"
   ]
  },
  {
   "cell_type": "code",
   "execution_count": 47,
   "metadata": {
    "collapsed": true
   },
   "outputs": [],
   "source": [
    "# Initialize the variables (i.e. assign their default value)\n",
    "init = tf.global_variables_initializer()"
   ]
  },
  {
   "cell_type": "code",
   "execution_count": 48,
   "metadata": {},
   "outputs": [
    {
     "name": "stdout",
     "output_type": "stream",
     "text": [
      "Epoch: 1000 cost= 0.082216099 W= 0.209457 b= 1.09021\n",
      "Epoch: 2000 cost= 0.077452958 W= 0.237818 b= 0.886179\n",
      "Epoch: 3000 cost= 0.077034175 W= 0.246139 b= 0.826315\n",
      "Epoch: 4000 cost= 0.076995559 W= 0.248581 b= 0.808749\n",
      "Epoch: 5000 cost= 0.076991476 W= 0.249298 b= 0.803594\n",
      "Epoch: 6000 cost= 0.076990917 W= 0.249508 b= 0.802081\n",
      "Epoch: 7000 cost= 0.076990806 W= 0.249564 b= 0.801676\n",
      "Epoch: 8000 cost= 0.076990753 W= 0.249589 b= 0.801499\n",
      "Epoch: 9000 cost= 0.076990761 W= 0.249598 b= 0.801434\n",
      "Epoch: 10000 cost= 0.076990739 W= 0.249607 b= 0.801368\n",
      "Epoch: 11000 cost= 0.076990739 W= 0.249607 b= 0.801368\n",
      "Epoch: 12000 cost= 0.076990739 W= 0.249607 b= 0.801368\n",
      "Epoch: 13000 cost= 0.076990739 W= 0.249607 b= 0.801368\n",
      "Epoch: 14000 cost= 0.076990739 W= 0.249607 b= 0.801368\n",
      "Epoch: 15000 cost= 0.076990739 W= 0.249607 b= 0.801368\n",
      "Epoch: 16000 cost= 0.076990739 W= 0.249607 b= 0.801368\n",
      "Epoch: 17000 cost= 0.076990739 W= 0.249607 b= 0.801368\n",
      "Epoch: 18000 cost= 0.076990739 W= 0.249607 b= 0.801368\n",
      "Epoch: 19000 cost= 0.076990739 W= 0.249607 b= 0.801368\n",
      "Epoch: 20000 cost= 0.076990739 W= 0.249607 b= 0.801368\n",
      "Optimization Finished!\n",
      "Training cost= 0.0769907 W= 0.249607 b= 0.801368 \n",
      "\n"
     ]
    },
    {
     "data": {
      "image/png": "[encoded data removed]",
      "text/plain": [
       "<matplotlib.figure.Figure at 0x7fda15227cc0>"
      ]
     },
     "metadata": {},
     "output_type": "display_data"
    }
   ],
   "source": [
    "# Start training\n",
    "with tf.Session() as sess:\n",
    "    sess.run(init)\n",
    "    \n",
    "    cost_array = []\n",
    "    W1000 = tf.Variable(rng.randn(), name=\"weight1000\")\n",
    "    b1000 = tf.Variable(rng.randn(), name=\"bias1000\")\n",
    "    \n",
    "    # Fit all training data\n",
    "    for epoch in range(training_epochs):\n",
    "        for (x, y) in zip(train_X, train_Y):\n",
    "            sess.run(optimizer, feed_dict={X: x, Y: y})\n",
    "        \n",
    "        # store the cost at each iteration to plot it\n",
    "        cost_array.append( sess.run(cost, feed_dict={X: train_X, Y:train_Y}) )\n",
    "        \n",
    "        #Display logs per epoch step\n",
    "        if (epoch+1) % display_step == 0:\n",
    "            c = sess.run(cost, feed_dict={X: train_X, Y:train_Y})\n",
    "            print (\"Epoch:\", '%04d' % (epoch+1), \"cost=\", \"{:.9f}\".format(c), \\\n",
    "                \"W=\", sess.run(W), \"b=\", sess.run(b))\n",
    "        #if (epoch+1==1000):\n",
    "        #    W1000=sess.run(W)\n",
    "        #    b1000=sess.run(b)\n",
    "        \n",
    "    print (\"Optimization Finished!\")\n",
    "    training_cost = sess.run(cost, feed_dict={X: train_X, Y: train_Y})\n",
    "    print (\"Training cost=\", training_cost, \"W=\", sess.run(W), \"b=\", sess.run(b), '\\n')\n",
    "    \n",
    "    #Graphic display\n",
    "    plt.figure(figsize=(15,7))\n",
    "    plt.subplot(121)\n",
    "    plt.plot(train_X, train_Y, 'ro', label='Original data')\n",
    "    #plt.plot(train_X, sess.run(W1000) * train_X + sess.run(b1000), label='N_{epoch}=1000', color='orange')\n",
    "    plt.plot(train_X, sess.run(W) * train_X + sess.run(b), label='Fitted line')\n",
    "    plt.legend()\n",
    "    \n",
    "    plt.subplot(122)\n",
    "    plt.plot(cost_array,label='Cost')\n",
    "    plt.xlim(0.8,training_epochs)\n",
    "    plt.loglog()\n",
    "    plt.legend()\n",
    "\n",
    "    plt.show()"
   ]
  },
  {
   "cell_type": "markdown",
   "metadata": {
    "collapsed": true
   },
   "source": [
    "Current question on this example: how to select the parameter at an intermediate step of the minimization, let say for $N_{epoch}=1000$? I tried with the following code but it failed:\n",
    "\n",
    "Outside the loop:\n",
    "```python\n",
    "W1000 = tf.Variable(rng.randn(), name=\"weight1000\")\n",
    "b1000 = tf.Variable(rng.randn(), name=\"bias1000\")\n",
    "```\n",
    "Then in the loop:\n",
    "```python\n",
    "if (epoch+1==1000):\n",
    "    W1000=sess.run(W)\n",
    "    b1000=sess.run(b)\n",
    "```"
   ]
  },
  {
   "cell_type": "code",
   "execution_count": null,
   "metadata": {
    "collapsed": true
   },
   "outputs": [],
   "source": []
  }
 ],
 "metadata": {
  "anaconda-cloud": {},
  "kernel_info": {
   "name": "python2"
  },
  "kernelspec": {
   "display_name": "Python 3",
   "language": "python",
   "name": "python3"
  },
  "language_info": {
   "codemirror_mode": {
    "name": "ipython",
    "version": 3
   },
   "file_extension": ".py",
   "mimetype": "text/x-python",
   "name": "python",
   "nbconvert_exporter": "python",
   "pygments_lexer": "ipython3",
   "version": "3.5.2"
  },
  "nteract": {
   "version": "0.3.4"
  }
 },
 "nbformat": 4,
 "nbformat_minor": 1
}
